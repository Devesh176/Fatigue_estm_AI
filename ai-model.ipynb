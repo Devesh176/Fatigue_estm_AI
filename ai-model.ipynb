{
 "cells": [
  {
   "cell_type": "code",
   "execution_count": null,
   "metadata": {
    "_cell_guid": "b1076dfc-b9ad-4769-8c92-a6c4dae69d19",
    "_uuid": "8f2839f25d086af736a60e9eeb907d3b93b6e0e5",
    "execution": {
     "iopub.execute_input": "2025-10-24T15:46:41.947497Z",
     "iopub.status.busy": "2025-10-24T15:46:41.946968Z",
     "iopub.status.idle": "2025-10-24T15:46:45.225377Z",
     "shell.execute_reply": "2025-10-24T15:46:45.224365Z",
     "shell.execute_reply.started": "2025-10-24T15:46:41.947472Z"
    },
    "trusted": true
   },
   "outputs": [
    {
     "name": "stdout",
     "output_type": "stream",
     "text": [
      "TensorFlow version: 2.18.0\n"
     ]
    },
    {
     "ename": "ImportError",
     "evalue": "cannot import name 'train_test_split' from 'sklearn.preprocessing' (/usr/local/lib/python3.11/dist-packages/sklearn/preprocessing/__init__.py)",
     "output_type": "error",
     "traceback": [
      "\u001b[0;31m---------------------------------------------------------------------------\u001b[0m",
      "\u001b[0;31mImportError\u001b[0m                               Traceback (most recent call last)",
      "\u001b[0;32m/tmp/ipykernel_37/3590638201.py\u001b[0m in \u001b[0;36m<cell line: 0>\u001b[0;34m()\u001b[0m\n\u001b[1;32m      4\u001b[0m \u001b[0;32mfrom\u001b[0m \u001b[0mtensorflow\u001b[0m\u001b[0;34m.\u001b[0m\u001b[0mkeras\u001b[0m \u001b[0;32mimport\u001b[0m \u001b[0mlayers\u001b[0m\u001b[0;34m\u001b[0m\u001b[0;34m\u001b[0m\u001b[0m\n\u001b[1;32m      5\u001b[0m \u001b[0mprint\u001b[0m\u001b[0;34m(\u001b[0m\u001b[0;34m\"TensorFlow version:\"\u001b[0m\u001b[0;34m,\u001b[0m \u001b[0mtf\u001b[0m\u001b[0;34m.\u001b[0m\u001b[0m__version__\u001b[0m\u001b[0;34m)\u001b[0m\u001b[0;34m\u001b[0m\u001b[0;34m\u001b[0m\u001b[0m\n\u001b[0;32m----> 6\u001b[0;31m \u001b[0;32mfrom\u001b[0m \u001b[0msklearn\u001b[0m\u001b[0;34m.\u001b[0m\u001b[0mpreprocessing\u001b[0m \u001b[0;32mimport\u001b[0m \u001b[0mtrain_test_split\u001b[0m\u001b[0;34m\u001b[0m\u001b[0;34m\u001b[0m\u001b[0m\n\u001b[0m",
      "\u001b[0;31mImportError\u001b[0m: cannot import name 'train_test_split' from 'sklearn.preprocessing' (/usr/local/lib/python3.11/dist-packages/sklearn/preprocessing/__init__.py)"
     ]
    }
   ],
   "source": [
    "!pip install tensorflow --quiet\n",
    "import tensorflow as tf\n",
    "from tensorflow import keras\n",
    "from tensorflow.keras import layers\n",
    "print(\"TensorFlow version:\", tf.__version__)"
   ]
  },
  {
   "cell_type": "code",
   "execution_count": 3,
   "metadata": {
    "execution": {
     "iopub.execute_input": "2025-10-24T15:19:37.539351Z",
     "iopub.status.busy": "2025-10-24T15:19:37.538771Z",
     "iopub.status.idle": "2025-10-24T15:19:40.769191Z",
     "shell.execute_reply": "2025-10-24T15:19:40.768558Z",
     "shell.execute_reply.started": "2025-10-24T15:19:37.539325Z"
    },
    "trusted": true
   },
   "outputs": [
    {
     "name": "stdout",
     "output_type": "stream",
     "text": [
      "(1048575, 15)\n"
     ]
    },
    {
     "data": {
      "text/html": [
       "<div>\n",
       "<style scoped>\n",
       "    .dataframe tbody tr th:only-of-type {\n",
       "        vertical-align: middle;\n",
       "    }\n",
       "\n",
       "    .dataframe tbody tr th {\n",
       "        vertical-align: top;\n",
       "    }\n",
       "\n",
       "    .dataframe thead th {\n",
       "        text-align: right;\n",
       "    }\n",
       "</style>\n",
       "<table border=\"1\" class=\"dataframe\">\n",
       "  <thead>\n",
       "    <tr style=\"text-align: right;\">\n",
       "      <th></th>\n",
       "      <th>cycle</th>\n",
       "      <th>mean_amplitude</th>\n",
       "      <th>load</th>\n",
       "      <th>median_strain</th>\n",
       "      <th>pzt_amplitude_std</th>\n",
       "      <th>pzt_energy_mean</th>\n",
       "      <th>pzt_rms_mean</th>\n",
       "      <th>strain_mean_of_means</th>\n",
       "      <th>strain_std_of_means</th>\n",
       "      <th>rho_micro</th>\n",
       "      <th>D_macro</th>\n",
       "      <th>rho_smooth</th>\n",
       "      <th>D_smooth</th>\n",
       "      <th>RUL</th>\n",
       "      <th>coupon_id</th>\n",
       "    </tr>\n",
       "  </thead>\n",
       "  <tbody>\n",
       "    <tr>\n",
       "      <th>0</th>\n",
       "      <td>0</td>\n",
       "      <td>1586.786000</td>\n",
       "      <td>0.000000e+00</td>\n",
       "      <td>0.002300</td>\n",
       "      <td>235.715700</td>\n",
       "      <td>396967580.0</td>\n",
       "      <td>439.628020</td>\n",
       "      <td>0.001982</td>\n",
       "      <td>0.001511</td>\n",
       "      <td>0.000000e+00</td>\n",
       "      <td>1.000000</td>\n",
       "      <td>0.000000e+00</td>\n",
       "      <td>1.000000</td>\n",
       "      <td>300000</td>\n",
       "      <td>L3_S13</td>\n",
       "    </tr>\n",
       "    <tr>\n",
       "      <th>1</th>\n",
       "      <td>1</td>\n",
       "      <td>1817.957900</td>\n",
       "      <td>5.000000e-01</td>\n",
       "      <td>0.002300</td>\n",
       "      <td>432.599550</td>\n",
       "      <td>589382850.0</td>\n",
       "      <td>516.628970</td>\n",
       "      <td>0.001982</td>\n",
       "      <td>0.001511</td>\n",
       "      <td>2.860000e-17</td>\n",
       "      <td>1.000000</td>\n",
       "      <td>6.470000e-18</td>\n",
       "      <td>1.000000</td>\n",
       "      <td>299999</td>\n",
       "      <td>L3_S13</td>\n",
       "    </tr>\n",
       "    <tr>\n",
       "      <th>2</th>\n",
       "      <td>2</td>\n",
       "      <td>1701.650839</td>\n",
       "      <td>3.759799e-01</td>\n",
       "      <td>0.002906</td>\n",
       "      <td>460.203918</td>\n",
       "      <td>520264726.4</td>\n",
       "      <td>480.389778</td>\n",
       "      <td>0.002395</td>\n",
       "      <td>0.001607</td>\n",
       "      <td>3.979975e-02</td>\n",
       "      <td>0.837691</td>\n",
       "      <td>2.269945e-02</td>\n",
       "      <td>0.907472</td>\n",
       "      <td>299998</td>\n",
       "      <td>L3_S13</td>\n",
       "    </tr>\n",
       "    <tr>\n",
       "      <th>3</th>\n",
       "      <td>3</td>\n",
       "      <td>1436.578100</td>\n",
       "      <td>-4.160000e-17</td>\n",
       "      <td>0.003731</td>\n",
       "      <td>408.923400</td>\n",
       "      <td>337786850.0</td>\n",
       "      <td>395.538020</td>\n",
       "      <td>0.002956</td>\n",
       "      <td>0.001738</td>\n",
       "      <td>9.466171e-02</td>\n",
       "      <td>0.616466</td>\n",
       "      <td>5.409241e-02</td>\n",
       "      <td>0.780838</td>\n",
       "      <td>299997</td>\n",
       "      <td>L3_S13</td>\n",
       "    </tr>\n",
       "    <tr>\n",
       "      <th>4</th>\n",
       "      <td>4</td>\n",
       "      <td>1187.801163</td>\n",
       "      <td>-3.192490e-01</td>\n",
       "      <td>0.004453</td>\n",
       "      <td>353.963329</td>\n",
       "      <td>165055721.5</td>\n",
       "      <td>315.759162</td>\n",
       "      <td>0.003448</td>\n",
       "      <td>0.001851</td>\n",
       "      <td>1.440743e-01</td>\n",
       "      <td>0.422002</td>\n",
       "      <td>8.256350e-02</td>\n",
       "      <td>0.668519</td>\n",
       "      <td>299996</td>\n",
       "      <td>L3_S13</td>\n",
       "    </tr>\n",
       "  </tbody>\n",
       "</table>\n",
       "</div>"
      ],
      "text/plain": [
       "   cycle  mean_amplitude          load  median_strain  pzt_amplitude_std  \\\n",
       "0      0     1586.786000  0.000000e+00       0.002300         235.715700   \n",
       "1      1     1817.957900  5.000000e-01       0.002300         432.599550   \n",
       "2      2     1701.650839  3.759799e-01       0.002906         460.203918   \n",
       "3      3     1436.578100 -4.160000e-17       0.003731         408.923400   \n",
       "4      4     1187.801163 -3.192490e-01       0.004453         353.963329   \n",
       "\n",
       "   pzt_energy_mean  pzt_rms_mean  strain_mean_of_means  strain_std_of_means  \\\n",
       "0      396967580.0    439.628020              0.001982             0.001511   \n",
       "1      589382850.0    516.628970              0.001982             0.001511   \n",
       "2      520264726.4    480.389778              0.002395             0.001607   \n",
       "3      337786850.0    395.538020              0.002956             0.001738   \n",
       "4      165055721.5    315.759162              0.003448             0.001851   \n",
       "\n",
       "      rho_micro   D_macro    rho_smooth  D_smooth     RUL coupon_id  \n",
       "0  0.000000e+00  1.000000  0.000000e+00  1.000000  300000    L3_S13  \n",
       "1  2.860000e-17  1.000000  6.470000e-18  1.000000  299999    L3_S13  \n",
       "2  3.979975e-02  0.837691  2.269945e-02  0.907472  299998    L3_S13  \n",
       "3  9.466171e-02  0.616466  5.409241e-02  0.780838  299997    L3_S13  \n",
       "4  1.440743e-01  0.422002  8.256350e-02  0.668519  299996    L3_S13  "
      ]
     },
     "execution_count": 3,
     "metadata": {},
     "output_type": "execute_result"
    }
   ],
   "source": [
    "import pandas as pd\n",
    "\n",
    "df = pd.read_csv(\"/kaggle/input/dataset/synthetic_fatigue_data_adaptive.csv\")\n",
    "print(df.shape)\n",
    "df.head()"
   ]
  },
  {
   "cell_type": "code",
   "execution_count": 4,
   "metadata": {
    "execution": {
     "iopub.execute_input": "2025-10-24T15:19:51.081509Z",
     "iopub.status.busy": "2025-10-24T15:19:51.081198Z",
     "iopub.status.idle": "2025-10-24T15:19:51.405612Z",
     "shell.execute_reply": "2025-10-24T15:19:51.404908Z",
     "shell.execute_reply.started": "2025-10-24T15:19:51.081486Z"
    },
    "trusted": true
   },
   "outputs": [
    {
     "name": "stdout",
     "output_type": "stream",
     "text": [
      "Shape: (391572, 15)\n"
     ]
    }
   ],
   "source": [
    "df_L1 = df[df['coupon_id'].str.startswith('L1')].copy()\n",
    "df_L1 = df_L1.sort_values('cycle').reset_index(drop=True)\n",
    "print(\"Shape:\", df_L1.shape)"
   ]
  },
  {
   "cell_type": "code",
   "execution_count": 5,
   "metadata": {
    "execution": {
     "iopub.execute_input": "2025-10-24T15:20:02.764057Z",
     "iopub.status.busy": "2025-10-24T15:20:02.763575Z",
     "iopub.status.idle": "2025-10-24T15:20:02.768273Z",
     "shell.execute_reply": "2025-10-24T15:20:02.767566Z",
     "shell.execute_reply.started": "2025-10-24T15:20:02.764031Z"
    },
    "trusted": true
   },
   "outputs": [],
   "source": [
    "features = [\n",
    "    'strain_std_of_means',\n",
    "    'pzt_amplitude_std',\n",
    "    'mean_amplitude',\n",
    "    'strain_mean_of_means',\n",
    "    'pzt_energy_mean',\n",
    "    'rho_smooth',\n",
    "    'D_smooth',\n",
    "    'D_macro',\n",
    "    'load'\n",
    "]\n",
    "target = 'RUL'"
   ]
  },
  {
   "cell_type": "code",
   "execution_count": 11,
   "metadata": {
    "execution": {
     "iopub.execute_input": "2025-10-24T15:23:47.987549Z",
     "iopub.status.busy": "2025-10-24T15:23:47.986981Z",
     "iopub.status.idle": "2025-10-24T15:23:47.993806Z",
     "shell.execute_reply": "2025-10-24T15:23:47.993218Z",
     "shell.execute_reply.started": "2025-10-24T15:23:47.987525Z"
    },
    "trusted": true
   },
   "outputs": [],
   "source": [
    "# normalize RUL between 0 and 1\n",
    "df_L1['RUL_norm'] = df_L1['RUL'] / df_L1['RUL'].max()\n",
    "target = 'RUL_norm'"
   ]
  },
  {
   "cell_type": "code",
   "execution_count": 12,
   "metadata": {
    "execution": {
     "iopub.execute_input": "2025-10-24T15:23:52.010721Z",
     "iopub.status.busy": "2025-10-24T15:23:52.009986Z",
     "iopub.status.idle": "2025-10-24T15:23:52.860226Z",
     "shell.execute_reply": "2025-10-24T15:23:52.859533Z",
     "shell.execute_reply.started": "2025-10-24T15:23:52.010695Z"
    },
    "trusted": true
   },
   "outputs": [
    {
     "name": "stdout",
     "output_type": "stream",
     "text": [
      "X shape: (391522, 50, 9) y shape: (391522,)\n"
     ]
    }
   ],
   "source": [
    "import numpy as np\n",
    "\n",
    "def make_sliding_windows(df, features, target, window=50):\n",
    "    X, y = [], []\n",
    "    vals = df[features].values\n",
    "    y_vals = df[target].values\n",
    "    for i in range(window, len(df)):\n",
    "        X.append(vals[i-window:i])\n",
    "        y.append(y_vals[i])\n",
    "    return np.array(X), np.array(y)\n",
    "\n",
    "window_size = 50\n",
    "X, y = make_sliding_windows(df_L1, features, target, window_size)\n",
    "print(\"X shape:\", X.shape, \"y shape:\", y.shape)"
   ]
  },
  {
   "cell_type": "code",
   "execution_count": 13,
   "metadata": {
    "execution": {
     "iopub.execute_input": "2025-10-24T15:24:12.578911Z",
     "iopub.status.busy": "2025-10-24T15:24:12.578634Z",
     "iopub.status.idle": "2025-10-24T15:24:12.583316Z",
     "shell.execute_reply": "2025-10-24T15:24:12.582545Z",
     "shell.execute_reply.started": "2025-10-24T15:24:12.578892Z"
    },
    "trusted": true
   },
   "outputs": [],
   "source": [
    "split_idx = int(len(X) * 0.8)\n",
    "X_train, X_test = X[:split_idx], X[split_idx:]\n",
    "y_train, y_test = y[:split_idx], y[split_idx:]"
   ]
  },
  {
   "cell_type": "code",
   "execution_count": 14,
   "metadata": {
    "execution": {
     "iopub.execute_input": "2025-10-24T15:24:12.796581Z",
     "iopub.status.busy": "2025-10-24T15:24:12.796109Z",
     "iopub.status.idle": "2025-10-24T15:24:16.227335Z",
     "shell.execute_reply": "2025-10-24T15:24:16.226503Z",
     "shell.execute_reply.started": "2025-10-24T15:24:12.796553Z"
    },
    "trusted": true
   },
   "outputs": [],
   "source": [
    "from sklearn.preprocessing import StandardScaler\n",
    "\n",
    "scaler = StandardScaler()\n",
    "X_train_2d = X_train.reshape(-1, len(features))\n",
    "X_test_2d  = X_test.reshape(-1, len(features))\n",
    "\n",
    "scaler.fit(X_train_2d)\n",
    "\n",
    "X_train_scaled = scaler.transform(X_train_2d).reshape(X_train.shape)\n",
    "X_test_scaled  = scaler.transform(X_test_2d).reshape(X_test.shape)"
   ]
  },
  {
   "cell_type": "code",
   "execution_count": 15,
   "metadata": {
    "execution": {
     "iopub.execute_input": "2025-10-24T15:24:16.645828Z",
     "iopub.status.busy": "2025-10-24T15:24:16.645372Z",
     "iopub.status.idle": "2025-10-24T15:24:16.697782Z",
     "shell.execute_reply": "2025-10-24T15:24:16.697124Z",
     "shell.execute_reply.started": "2025-10-24T15:24:16.645807Z"
    },
    "trusted": true
   },
   "outputs": [
    {
     "data": {
      "text/html": [
       "<pre style=\"white-space:pre;overflow-x:auto;line-height:normal;font-family:Menlo,'DejaVu Sans Mono',consolas,'Courier New',monospace\"><span style=\"font-weight: bold\">Model: \"sequential_1\"</span>\n",
       "</pre>\n"
      ],
      "text/plain": [
       "\u001b[1mModel: \"sequential_1\"\u001b[0m\n"
      ]
     },
     "metadata": {},
     "output_type": "display_data"
    },
    {
     "data": {
      "text/html": [
       "<pre style=\"white-space:pre;overflow-x:auto;line-height:normal;font-family:Menlo,'DejaVu Sans Mono',consolas,'Courier New',monospace\">┏━━━━━━━━━━━━━━━━━━━━━━━━━━━━━━━━━┳━━━━━━━━━━━━━━━━━━━━━━━━┳━━━━━━━━━━━━━━━┓\n",
       "┃<span style=\"font-weight: bold\"> Layer (type)                    </span>┃<span style=\"font-weight: bold\"> Output Shape           </span>┃<span style=\"font-weight: bold\">       Param # </span>┃\n",
       "┡━━━━━━━━━━━━━━━━━━━━━━━━━━━━━━━━━╇━━━━━━━━━━━━━━━━━━━━━━━━╇━━━━━━━━━━━━━━━┩\n",
       "│ lstm_1 (<span style=\"color: #0087ff; text-decoration-color: #0087ff\">LSTM</span>)                   │ (<span style=\"color: #00d7ff; text-decoration-color: #00d7ff\">None</span>, <span style=\"color: #00af00; text-decoration-color: #00af00\">64</span>)             │        <span style=\"color: #00af00; text-decoration-color: #00af00\">18,944</span> │\n",
       "├─────────────────────────────────┼────────────────────────┼───────────────┤\n",
       "│ dropout_1 (<span style=\"color: #0087ff; text-decoration-color: #0087ff\">Dropout</span>)             │ (<span style=\"color: #00d7ff; text-decoration-color: #00d7ff\">None</span>, <span style=\"color: #00af00; text-decoration-color: #00af00\">64</span>)             │             <span style=\"color: #00af00; text-decoration-color: #00af00\">0</span> │\n",
       "├─────────────────────────────────┼────────────────────────┼───────────────┤\n",
       "│ dense_2 (<span style=\"color: #0087ff; text-decoration-color: #0087ff\">Dense</span>)                 │ (<span style=\"color: #00d7ff; text-decoration-color: #00d7ff\">None</span>, <span style=\"color: #00af00; text-decoration-color: #00af00\">32</span>)             │         <span style=\"color: #00af00; text-decoration-color: #00af00\">2,080</span> │\n",
       "├─────────────────────────────────┼────────────────────────┼───────────────┤\n",
       "│ dense_3 (<span style=\"color: #0087ff; text-decoration-color: #0087ff\">Dense</span>)                 │ (<span style=\"color: #00d7ff; text-decoration-color: #00d7ff\">None</span>, <span style=\"color: #00af00; text-decoration-color: #00af00\">1</span>)              │            <span style=\"color: #00af00; text-decoration-color: #00af00\">33</span> │\n",
       "└─────────────────────────────────┴────────────────────────┴───────────────┘\n",
       "</pre>\n"
      ],
      "text/plain": [
       "┏━━━━━━━━━━━━━━━━━━━━━━━━━━━━━━━━━┳━━━━━━━━━━━━━━━━━━━━━━━━┳━━━━━━━━━━━━━━━┓\n",
       "┃\u001b[1m \u001b[0m\u001b[1mLayer (type)                   \u001b[0m\u001b[1m \u001b[0m┃\u001b[1m \u001b[0m\u001b[1mOutput Shape          \u001b[0m\u001b[1m \u001b[0m┃\u001b[1m \u001b[0m\u001b[1m      Param #\u001b[0m\u001b[1m \u001b[0m┃\n",
       "┡━━━━━━━━━━━━━━━━━━━━━━━━━━━━━━━━━╇━━━━━━━━━━━━━━━━━━━━━━━━╇━━━━━━━━━━━━━━━┩\n",
       "│ lstm_1 (\u001b[38;5;33mLSTM\u001b[0m)                   │ (\u001b[38;5;45mNone\u001b[0m, \u001b[38;5;34m64\u001b[0m)             │        \u001b[38;5;34m18,944\u001b[0m │\n",
       "├─────────────────────────────────┼────────────────────────┼───────────────┤\n",
       "│ dropout_1 (\u001b[38;5;33mDropout\u001b[0m)             │ (\u001b[38;5;45mNone\u001b[0m, \u001b[38;5;34m64\u001b[0m)             │             \u001b[38;5;34m0\u001b[0m │\n",
       "├─────────────────────────────────┼────────────────────────┼───────────────┤\n",
       "│ dense_2 (\u001b[38;5;33mDense\u001b[0m)                 │ (\u001b[38;5;45mNone\u001b[0m, \u001b[38;5;34m32\u001b[0m)             │         \u001b[38;5;34m2,080\u001b[0m │\n",
       "├─────────────────────────────────┼────────────────────────┼───────────────┤\n",
       "│ dense_3 (\u001b[38;5;33mDense\u001b[0m)                 │ (\u001b[38;5;45mNone\u001b[0m, \u001b[38;5;34m1\u001b[0m)              │            \u001b[38;5;34m33\u001b[0m │\n",
       "└─────────────────────────────────┴────────────────────────┴───────────────┘\n"
      ]
     },
     "metadata": {},
     "output_type": "display_data"
    },
    {
     "data": {
      "text/html": [
       "<pre style=\"white-space:pre;overflow-x:auto;line-height:normal;font-family:Menlo,'DejaVu Sans Mono',consolas,'Courier New',monospace\"><span style=\"font-weight: bold\"> Total params: </span><span style=\"color: #00af00; text-decoration-color: #00af00\">21,057</span> (82.25 KB)\n",
       "</pre>\n"
      ],
      "text/plain": [
       "\u001b[1m Total params: \u001b[0m\u001b[38;5;34m21,057\u001b[0m (82.25 KB)\n"
      ]
     },
     "metadata": {},
     "output_type": "display_data"
    },
    {
     "data": {
      "text/html": [
       "<pre style=\"white-space:pre;overflow-x:auto;line-height:normal;font-family:Menlo,'DejaVu Sans Mono',consolas,'Courier New',monospace\"><span style=\"font-weight: bold\"> Trainable params: </span><span style=\"color: #00af00; text-decoration-color: #00af00\">21,057</span> (82.25 KB)\n",
       "</pre>\n"
      ],
      "text/plain": [
       "\u001b[1m Trainable params: \u001b[0m\u001b[38;5;34m21,057\u001b[0m (82.25 KB)\n"
      ]
     },
     "metadata": {},
     "output_type": "display_data"
    },
    {
     "data": {
      "text/html": [
       "<pre style=\"white-space:pre;overflow-x:auto;line-height:normal;font-family:Menlo,'DejaVu Sans Mono',consolas,'Courier New',monospace\"><span style=\"font-weight: bold\"> Non-trainable params: </span><span style=\"color: #00af00; text-decoration-color: #00af00\">0</span> (0.00 B)\n",
       "</pre>\n"
      ],
      "text/plain": [
       "\u001b[1m Non-trainable params: \u001b[0m\u001b[38;5;34m0\u001b[0m (0.00 B)\n"
      ]
     },
     "metadata": {},
     "output_type": "display_data"
    }
   ],
   "source": [
    "n_timesteps = X_train_scaled.shape[1]   # 50\n",
    "n_features  = X_train_scaled.shape[2]   # 9\n",
    "\n",
    "model = keras.Sequential([\n",
    "    layers.Input(shape=(n_timesteps, n_features)),\n",
    "    layers.LSTM(64, return_sequences=False),\n",
    "    layers.Dropout(0.2),\n",
    "    layers.Dense(32, activation='relu'),\n",
    "    layers.Dense(1)\n",
    "])\n",
    "\n",
    "model.compile(optimizer=keras.optimizers.Adam(1e-3), loss='mse')\n",
    "model.summary()"
   ]
  },
  {
   "cell_type": "code",
   "execution_count": 16,
   "metadata": {
    "execution": {
     "iopub.execute_input": "2025-10-24T15:24:20.016222Z",
     "iopub.status.busy": "2025-10-24T15:24:20.015652Z",
     "iopub.status.idle": "2025-10-24T15:43:03.789274Z",
     "shell.execute_reply": "2025-10-24T15:43:03.788661Z",
     "shell.execute_reply.started": "2025-10-24T15:24:20.016200Z"
    },
    "trusted": true
   },
   "outputs": [
    {
     "name": "stdout",
     "output_type": "stream",
     "text": [
      "Epoch 1/50\n",
      "\u001b[1m3916/3916\u001b[0m \u001b[32m━━━━━━━━━━━━━━━━━━━━\u001b[0m\u001b[37m\u001b[0m \u001b[1m25s\u001b[0m 6ms/step - loss: 0.0533 - val_loss: 1.0731\n",
      "Epoch 2/50\n",
      "\u001b[1m3916/3916\u001b[0m \u001b[32m━━━━━━━━━━━━━━━━━━━━\u001b[0m\u001b[37m\u001b[0m \u001b[1m22s\u001b[0m 6ms/step - loss: 0.0356 - val_loss: 0.9277\n",
      "Epoch 3/50\n",
      "\u001b[1m3916/3916\u001b[0m \u001b[32m━━━━━━━━━━━━━━━━━━━━\u001b[0m\u001b[37m\u001b[0m \u001b[1m22s\u001b[0m 6ms/step - loss: 0.0343 - val_loss: 0.7673\n",
      "Epoch 4/50\n",
      "\u001b[1m3916/3916\u001b[0m \u001b[32m━━━━━━━━━━━━━━━━━━━━\u001b[0m\u001b[37m\u001b[0m \u001b[1m22s\u001b[0m 6ms/step - loss: 0.0334 - val_loss: 0.3326\n",
      "Epoch 5/50\n",
      "\u001b[1m3916/3916\u001b[0m \u001b[32m━━━━━━━━━━━━━━━━━━━━\u001b[0m\u001b[37m\u001b[0m \u001b[1m22s\u001b[0m 6ms/step - loss: 0.0328 - val_loss: 0.0754\n",
      "Epoch 6/50\n",
      "\u001b[1m3916/3916\u001b[0m \u001b[32m━━━━━━━━━━━━━━━━━━━━\u001b[0m\u001b[37m\u001b[0m \u001b[1m22s\u001b[0m 6ms/step - loss: 0.0320 - val_loss: 0.1372\n",
      "Epoch 7/50\n",
      "\u001b[1m3916/3916\u001b[0m \u001b[32m━━━━━━━━━━━━━━━━━━━━\u001b[0m\u001b[37m\u001b[0m \u001b[1m22s\u001b[0m 6ms/step - loss: 0.0317 - val_loss: 0.0669\n",
      "Epoch 8/50\n",
      "\u001b[1m3916/3916\u001b[0m \u001b[32m━━━━━━━━━━━━━━━━━━━━\u001b[0m\u001b[37m\u001b[0m \u001b[1m22s\u001b[0m 6ms/step - loss: 0.0314 - val_loss: 0.0772\n",
      "Epoch 9/50\n",
      "\u001b[1m3916/3916\u001b[0m \u001b[32m━━━━━━━━━━━━━━━━━━━━\u001b[0m\u001b[37m\u001b[0m \u001b[1m22s\u001b[0m 6ms/step - loss: 0.0310 - val_loss: 0.0342\n",
      "Epoch 10/50\n",
      "\u001b[1m3916/3916\u001b[0m \u001b[32m━━━━━━━━━━━━━━━━━━━━\u001b[0m\u001b[37m\u001b[0m \u001b[1m22s\u001b[0m 6ms/step - loss: 0.0308 - val_loss: 0.0368\n",
      "Epoch 11/50\n",
      "\u001b[1m3916/3916\u001b[0m \u001b[32m━━━━━━━━━━━━━━━━━━━━\u001b[0m\u001b[37m\u001b[0m \u001b[1m22s\u001b[0m 6ms/step - loss: 0.0305 - val_loss: 0.0435\n",
      "Epoch 12/50\n",
      "\u001b[1m3916/3916\u001b[0m \u001b[32m━━━━━━━━━━━━━━━━━━━━\u001b[0m\u001b[37m\u001b[0m \u001b[1m22s\u001b[0m 6ms/step - loss: 0.0304 - val_loss: 0.0386\n",
      "Epoch 13/50\n",
      "\u001b[1m3916/3916\u001b[0m \u001b[32m━━━━━━━━━━━━━━━━━━━━\u001b[0m\u001b[37m\u001b[0m \u001b[1m23s\u001b[0m 6ms/step - loss: 0.0301 - val_loss: 0.0418\n",
      "Epoch 14/50\n",
      "\u001b[1m3916/3916\u001b[0m \u001b[32m━━━━━━━━━━━━━━━━━━━━\u001b[0m\u001b[37m\u001b[0m \u001b[1m23s\u001b[0m 6ms/step - loss: 0.0300 - val_loss: 0.0413\n",
      "Epoch 15/50\n",
      "\u001b[1m3916/3916\u001b[0m \u001b[32m━━━━━━━━━━━━━━━━━━━━\u001b[0m\u001b[37m\u001b[0m \u001b[1m22s\u001b[0m 6ms/step - loss: 0.0299 - val_loss: 0.0393\n",
      "Epoch 16/50\n",
      "\u001b[1m3916/3916\u001b[0m \u001b[32m━━━━━━━━━━━━━━━━━━━━\u001b[0m\u001b[37m\u001b[0m \u001b[1m22s\u001b[0m 6ms/step - loss: 0.0299 - val_loss: 0.0330\n",
      "Epoch 17/50\n",
      "\u001b[1m3916/3916\u001b[0m \u001b[32m━━━━━━━━━━━━━━━━━━━━\u001b[0m\u001b[37m\u001b[0m \u001b[1m22s\u001b[0m 6ms/step - loss: 0.0298 - val_loss: 0.0310\n",
      "Epoch 18/50\n",
      "\u001b[1m3916/3916\u001b[0m \u001b[32m━━━━━━━━━━━━━━━━━━━━\u001b[0m\u001b[37m\u001b[0m \u001b[1m22s\u001b[0m 6ms/step - loss: 0.0299 - val_loss: 0.0365\n",
      "Epoch 19/50\n",
      "\u001b[1m3916/3916\u001b[0m \u001b[32m━━━━━━━━━━━━━━━━━━━━\u001b[0m\u001b[37m\u001b[0m \u001b[1m22s\u001b[0m 6ms/step - loss: 0.0295 - val_loss: 0.0380\n",
      "Epoch 20/50\n",
      "\u001b[1m3916/3916\u001b[0m \u001b[32m━━━━━━━━━━━━━━━━━━━━\u001b[0m\u001b[37m\u001b[0m \u001b[1m22s\u001b[0m 6ms/step - loss: 0.0302 - val_loss: 0.0298\n",
      "Epoch 21/50\n",
      "\u001b[1m3916/3916\u001b[0m \u001b[32m━━━━━━━━━━━━━━━━━━━━\u001b[0m\u001b[37m\u001b[0m \u001b[1m22s\u001b[0m 6ms/step - loss: 0.0296 - val_loss: 0.0325\n",
      "Epoch 22/50\n",
      "\u001b[1m3916/3916\u001b[0m \u001b[32m━━━━━━━━━━━━━━━━━━━━\u001b[0m\u001b[37m\u001b[0m \u001b[1m22s\u001b[0m 6ms/step - loss: 0.0294 - val_loss: 0.0306\n",
      "Epoch 23/50\n",
      "\u001b[1m3916/3916\u001b[0m \u001b[32m━━━━━━━━━━━━━━━━━━━━\u001b[0m\u001b[37m\u001b[0m \u001b[1m22s\u001b[0m 6ms/step - loss: 0.0297 - val_loss: 0.0325\n",
      "Epoch 24/50\n",
      "\u001b[1m3916/3916\u001b[0m \u001b[32m━━━━━━━━━━━━━━━━━━━━\u001b[0m\u001b[37m\u001b[0m \u001b[1m22s\u001b[0m 6ms/step - loss: 0.0296 - val_loss: 0.0546\n",
      "Epoch 25/50\n",
      "\u001b[1m3916/3916\u001b[0m \u001b[32m━━━━━━━━━━━━━━━━━━━━\u001b[0m\u001b[37m\u001b[0m \u001b[1m22s\u001b[0m 6ms/step - loss: 0.0306 - val_loss: 0.0310\n",
      "Epoch 26/50\n",
      "\u001b[1m3916/3916\u001b[0m \u001b[32m━━━━━━━━━━━━━━━━━━━━\u001b[0m\u001b[37m\u001b[0m \u001b[1m23s\u001b[0m 6ms/step - loss: 0.0294 - val_loss: 0.0320\n",
      "Epoch 27/50\n",
      "\u001b[1m3916/3916\u001b[0m \u001b[32m━━━━━━━━━━━━━━━━━━━━\u001b[0m\u001b[37m\u001b[0m \u001b[1m23s\u001b[0m 6ms/step - loss: 0.0292 - val_loss: 0.0273\n",
      "Epoch 28/50\n",
      "\u001b[1m3916/3916\u001b[0m \u001b[32m━━━━━━━━━━━━━━━━━━━━\u001b[0m\u001b[37m\u001b[0m \u001b[1m23s\u001b[0m 6ms/step - loss: 0.0293 - val_loss: 0.0359\n",
      "Epoch 29/50\n",
      "\u001b[1m3916/3916\u001b[0m \u001b[32m━━━━━━━━━━━━━━━━━━━━\u001b[0m\u001b[37m\u001b[0m \u001b[1m22s\u001b[0m 6ms/step - loss: 0.0294 - val_loss: 0.0282\n",
      "Epoch 30/50\n",
      "\u001b[1m3916/3916\u001b[0m \u001b[32m━━━━━━━━━━━━━━━━━━━━\u001b[0m\u001b[37m\u001b[0m \u001b[1m22s\u001b[0m 6ms/step - loss: 0.0294 - val_loss: 0.0308\n",
      "Epoch 31/50\n",
      "\u001b[1m3916/3916\u001b[0m \u001b[32m━━━━━━━━━━━━━━━━━━━━\u001b[0m\u001b[37m\u001b[0m \u001b[1m22s\u001b[0m 6ms/step - loss: 0.0291 - val_loss: 0.0284\n",
      "Epoch 32/50\n",
      "\u001b[1m3916/3916\u001b[0m \u001b[32m━━━━━━━━━━━━━━━━━━━━\u001b[0m\u001b[37m\u001b[0m \u001b[1m22s\u001b[0m 6ms/step - loss: 0.0292 - val_loss: 0.0264\n",
      "Epoch 33/50\n",
      "\u001b[1m3916/3916\u001b[0m \u001b[32m━━━━━━━━━━━━━━━━━━━━\u001b[0m\u001b[37m\u001b[0m \u001b[1m22s\u001b[0m 6ms/step - loss: 0.0292 - val_loss: 0.0320\n",
      "Epoch 34/50\n",
      "\u001b[1m3916/3916\u001b[0m \u001b[32m━━━━━━━━━━━━━━━━━━━━\u001b[0m\u001b[37m\u001b[0m \u001b[1m23s\u001b[0m 6ms/step - loss: 0.0293 - val_loss: 0.0304\n",
      "Epoch 35/50\n",
      "\u001b[1m3916/3916\u001b[0m \u001b[32m━━━━━━━━━━━━━━━━━━━━\u001b[0m\u001b[37m\u001b[0m \u001b[1m22s\u001b[0m 6ms/step - loss: 0.0294 - val_loss: 0.0283\n",
      "Epoch 36/50\n",
      "\u001b[1m3916/3916\u001b[0m \u001b[32m━━━━━━━━━━━━━━━━━━━━\u001b[0m\u001b[37m\u001b[0m \u001b[1m22s\u001b[0m 6ms/step - loss: 0.0294 - val_loss: 0.0259\n",
      "Epoch 37/50\n",
      "\u001b[1m3916/3916\u001b[0m \u001b[32m━━━━━━━━━━━━━━━━━━━━\u001b[0m\u001b[37m\u001b[0m \u001b[1m22s\u001b[0m 6ms/step - loss: 0.0291 - val_loss: 0.0261\n",
      "Epoch 38/50\n",
      "\u001b[1m3916/3916\u001b[0m \u001b[32m━━━━━━━━━━━━━━━━━━━━\u001b[0m\u001b[37m\u001b[0m \u001b[1m22s\u001b[0m 6ms/step - loss: 0.0292 - val_loss: 0.0238\n",
      "Epoch 39/50\n",
      "\u001b[1m3916/3916\u001b[0m \u001b[32m━━━━━━━━━━━━━━━━━━━━\u001b[0m\u001b[37m\u001b[0m \u001b[1m22s\u001b[0m 6ms/step - loss: 0.0293 - val_loss: 0.0292\n",
      "Epoch 40/50\n",
      "\u001b[1m3916/3916\u001b[0m \u001b[32m━━━━━━━━━━━━━━━━━━━━\u001b[0m\u001b[37m\u001b[0m \u001b[1m22s\u001b[0m 6ms/step - loss: 0.0297 - val_loss: 0.0330\n",
      "Epoch 41/50\n",
      "\u001b[1m3916/3916\u001b[0m \u001b[32m━━━━━━━━━━━━━━━━━━━━\u001b[0m\u001b[37m\u001b[0m \u001b[1m23s\u001b[0m 6ms/step - loss: 0.0294 - val_loss: 0.0290\n",
      "Epoch 42/50\n",
      "\u001b[1m3916/3916\u001b[0m \u001b[32m━━━━━━━━━━━━━━━━━━━━\u001b[0m\u001b[37m\u001b[0m \u001b[1m22s\u001b[0m 6ms/step - loss: 0.0295 - val_loss: 0.0291\n",
      "Epoch 43/50\n",
      "\u001b[1m3916/3916\u001b[0m \u001b[32m━━━━━━━━━━━━━━━━━━━━\u001b[0m\u001b[37m\u001b[0m \u001b[1m22s\u001b[0m 6ms/step - loss: 0.0294 - val_loss: 0.0336\n",
      "Epoch 44/50\n",
      "\u001b[1m3916/3916\u001b[0m \u001b[32m━━━━━━━━━━━━━━━━━━━━\u001b[0m\u001b[37m\u001b[0m \u001b[1m22s\u001b[0m 6ms/step - loss: 0.0291 - val_loss: 0.0320\n",
      "Epoch 45/50\n",
      "\u001b[1m3916/3916\u001b[0m \u001b[32m━━━━━━━━━━━━━━━━━━━━\u001b[0m\u001b[37m\u001b[0m \u001b[1m22s\u001b[0m 6ms/step - loss: 0.0292 - val_loss: 0.0265\n",
      "Epoch 46/50\n",
      "\u001b[1m3916/3916\u001b[0m \u001b[32m━━━━━━━━━━━━━━━━━━━━\u001b[0m\u001b[37m\u001b[0m \u001b[1m22s\u001b[0m 6ms/step - loss: 0.0292 - val_loss: 0.0342\n",
      "Epoch 47/50\n",
      "\u001b[1m3916/3916\u001b[0m \u001b[32m━━━━━━━━━━━━━━━━━━━━\u001b[0m\u001b[37m\u001b[0m \u001b[1m22s\u001b[0m 6ms/step - loss: 0.0292 - val_loss: 0.0435\n",
      "Epoch 48/50\n",
      "\u001b[1m3916/3916\u001b[0m \u001b[32m━━━━━━━━━━━━━━━━━━━━\u001b[0m\u001b[37m\u001b[0m \u001b[1m22s\u001b[0m 6ms/step - loss: 0.0388 - val_loss: 0.0527\n",
      "Epoch 49/50\n",
      "\u001b[1m3916/3916\u001b[0m \u001b[32m━━━━━━━━━━━━━━━━━━━━\u001b[0m\u001b[37m\u001b[0m \u001b[1m22s\u001b[0m 6ms/step - loss: 0.0291 - val_loss: 0.0620\n",
      "Epoch 50/50\n",
      "\u001b[1m3916/3916\u001b[0m \u001b[32m━━━━━━━━━━━━━━━━━━━━\u001b[0m\u001b[37m\u001b[0m \u001b[1m22s\u001b[0m 6ms/step - loss: 0.0292 - val_loss: 0.0430\n"
     ]
    }
   ],
   "source": [
    "history = model.fit(\n",
    "    X_train_scaled, y_train,\n",
    "    validation_split=0.2,\n",
    "    epochs=50,\n",
    "    batch_size=64,\n",
    "    verbose=1\n",
    ")"
   ]
  },
  {
   "cell_type": "code",
   "execution_count": 17,
   "metadata": {
    "execution": {
     "iopub.execute_input": "2025-10-24T15:43:17.607204Z",
     "iopub.status.busy": "2025-10-24T15:43:17.606632Z",
     "iopub.status.idle": "2025-10-24T15:43:24.076019Z",
     "shell.execute_reply": "2025-10-24T15:43:24.075225Z",
     "shell.execute_reply.started": "2025-10-24T15:43:17.607177Z"
    },
    "trusted": true
   },
   "outputs": [
    {
     "name": "stdout",
     "output_type": "stream",
     "text": [
      "\u001b[1m2448/2448\u001b[0m \u001b[32m━━━━━━━━━━━━━━━━━━━━\u001b[0m\u001b[37m\u001b[0m \u001b[1m5s\u001b[0m 2ms/step\n"
     ]
    }
   ],
   "source": [
    "y_pred_norm = model.predict(X_test_scaled).flatten()\n",
    "\n",
    "# convert back to original RUL scale\n",
    "rul_max = df_L1['RUL'].max()\n",
    "y_pred = y_pred_norm * rul_max\n",
    "y_true = y_test * rul_max"
   ]
  },
  {
   "cell_type": "code",
   "execution_count": 18,
   "metadata": {
    "execution": {
     "iopub.execute_input": "2025-10-24T15:44:15.852890Z",
     "iopub.status.busy": "2025-10-24T15:44:15.852623Z",
     "iopub.status.idle": "2025-10-24T15:44:16.388035Z",
     "shell.execute_reply": "2025-10-24T15:44:16.387236Z",
     "shell.execute_reply.started": "2025-10-24T15:44:15.852870Z"
    },
    "trusted": true
   },
   "outputs": [
    {
     "name": "stdout",
     "output_type": "stream",
     "text": [
      "RMSE: 175911.31, MAE: 162493.19, R²: -59.561\n"
     ]
    },
    {
     "data": {
      "image/png": "[encoded data removed]",
      "text/plain": [
       "<Figure size 1000x500 with 1 Axes>"
      ]
     },
     "metadata": {},
     "output_type": "display_data"
    }
   ],
   "source": [
    "from sklearn.metrics import mean_squared_error, mean_absolute_error, r2_score\n",
    "import matplotlib.pyplot as plt\n",
    "\n",
    "# === Evaluate ===\n",
    "rmse = mean_squared_error(y_true, y_pred, squared=False)\n",
    "mae  = mean_absolute_error(y_true, y_pred)\n",
    "r2   = r2_score(y_true, y_pred)\n",
    "\n",
    "print(f\"RMSE: {rmse:.2f}, MAE: {mae:.2f}, R²: {r2:.3f}\")\n",
    "\n",
    "# === Plot ===\n",
    "plt.figure(figsize=(10,5))\n",
    "plt.plot(y_true, label='True RUL', linewidth=2)\n",
    "plt.plot(y_pred, label='Predicted RUL', linewidth=2)\n",
    "plt.xlabel(\"Cycle Index (Test segment)\")\n",
    "plt.ylabel(\"RUL\")\n",
    "plt.title(\"True vs Predicted RUL – LSTM Model\")\n",
    "plt.legend()\n",
    "plt.show()"
   ]
  },
  {
   "cell_type": "code",
   "execution_count": 19,
   "metadata": {
    "execution": {
     "iopub.execute_input": "2025-10-24T15:44:50.262773Z",
     "iopub.status.busy": "2025-10-24T15:44:50.261943Z",
     "iopub.status.idle": "2025-10-24T15:44:50.417412Z",
     "shell.execute_reply": "2025-10-24T15:44:50.416598Z",
     "shell.execute_reply.started": "2025-10-24T15:44:50.262748Z"
    },
    "trusted": true
   },
   "outputs": [
    {
     "data": {
      "image/png": "[encoded data removed]",
      "text/plain": [
       "<Figure size 640x480 with 1 Axes>"
      ]
     },
     "metadata": {},
     "output_type": "display_data"
    }
   ],
   "source": [
    "import matplotlib.pyplot as plt\n",
    "\n",
    "plt.plot(history.history['loss'], label='Train Loss')\n",
    "plt.plot(history.history['val_loss'], label='Val Loss')\n",
    "plt.xlabel('Epoch')\n",
    "plt.ylabel('MSE')\n",
    "plt.legend()\n",
    "plt.title('Training vs Validation Loss (Normalized RUL)')\n",
    "plt.show()\n"
   ]
  },
  {
   "cell_type": "code",
   "execution_count": 20,
   "metadata": {
    "execution": {
     "iopub.execute_input": "2025-10-24T15:46:09.556817Z",
     "iopub.status.busy": "2025-10-24T15:46:09.556329Z",
     "iopub.status.idle": "2025-10-24T15:46:12.926358Z",
     "shell.execute_reply": "2025-10-24T15:46:12.925677Z",
     "shell.execute_reply.started": "2025-10-24T15:46:09.556792Z"
    },
    "trusted": true
   },
   "outputs": [],
   "source": [
    "scaler = StandardScaler()\n",
    "X_train_scaled = scaler.fit_transform(X_train.reshape(-1, X_train.shape[-1])).reshape(X_train.shape)\n",
    "X_test_scaled  = scaler.transform(X_test.reshape(-1, X_test.shape[-1])).reshape(X_test.shape)\n"
   ]
  },
  {
   "cell_type": "code",
   "execution_count": 21,
   "metadata": {
    "execution": {
     "iopub.execute_input": "2025-10-24T15:46:15.426030Z",
     "iopub.status.busy": "2025-10-24T15:46:15.425440Z",
     "iopub.status.idle": "2025-10-24T15:46:15.443922Z",
     "shell.execute_reply": "2025-10-24T15:46:15.443051Z",
     "shell.execute_reply.started": "2025-10-24T15:46:15.426006Z"
    },
    "trusted": true
   },
   "outputs": [
    {
     "ename": "NameError",
     "evalue": "name 'train_test_split' is not defined",
     "output_type": "error",
     "traceback": [
      "\u001b[0;31m---------------------------------------------------------------------------\u001b[0m",
      "\u001b[0;31mNameError\u001b[0m                                 Traceback (most recent call last)",
      "\u001b[0;32m/tmp/ipykernel_37/1442454772.py\u001b[0m in \u001b[0;36m<cell line: 0>\u001b[0;34m()\u001b[0m\n\u001b[0;32m----> 1\u001b[0;31m \u001b[0mX_train\u001b[0m\u001b[0;34m,\u001b[0m \u001b[0mX_test\u001b[0m\u001b[0;34m,\u001b[0m \u001b[0my_train\u001b[0m\u001b[0;34m,\u001b[0m \u001b[0my_test\u001b[0m \u001b[0;34m=\u001b[0m \u001b[0mtrain_test_split\u001b[0m\u001b[0;34m(\u001b[0m\u001b[0mX\u001b[0m\u001b[0;34m,\u001b[0m \u001b[0my\u001b[0m\u001b[0;34m,\u001b[0m \u001b[0mtest_size\u001b[0m\u001b[0;34m=\u001b[0m\u001b[0;36m0.2\u001b[0m\u001b[0;34m,\u001b[0m \u001b[0mrandom_state\u001b[0m\u001b[0;34m=\u001b[0m\u001b[0;36m42\u001b[0m\u001b[0;34m)\u001b[0m\u001b[0;34m\u001b[0m\u001b[0;34m\u001b[0m\u001b[0m\n\u001b[0m",
      "\u001b[0;31mNameError\u001b[0m: name 'train_test_split' is not defined"
     ]
    }
   ],
   "source": [
    "X_train, X_test, y_train, y_test = train_test_split(X, y, test_size=0.2, random_state=42)"
   ]
  },
  {
   "cell_type": "code",
   "execution_count": null,
   "metadata": {
    "trusted": true
   },
   "outputs": [],
   "source": []
  }
 ],
 "metadata": {
  "kaggle": {
   "accelerator": "nvidiaTeslaT4",
   "dataSources": [
    {
     "datasetId": 8564619,
     "sourceId": 13489527,
     "sourceType": "datasetVersion"
    }
   ],
   "dockerImageVersionId": 31154,
   "isGpuEnabled": true,
   "isInternetEnabled": true,
   "language": "python",
   "sourceType": "notebook"
  },
  "kernelspec": {
   "display_name": "Python 3",
   "language": "python",
   "name": "python3"
  },
  "language_info": {
   "codemirror_mode": {
    "name": "ipython",
    "version": 3
   },
   "file_extension": ".py",
   "mimetype": "text/x-python",
   "name": "python",
   "nbconvert_exporter": "python",
   "pygments_lexer": "ipython3",
   "version": "3.11.13"
  }
 },
 "nbformat": 4,
 "nbformat_minor": 4
}
