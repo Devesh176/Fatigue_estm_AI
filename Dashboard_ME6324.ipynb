{
  "nbformat": 4,
  "nbformat_minor": 0,
  "metadata": {
    "colab": {
      "provenance": []
    },
    "kernelspec": {
      "name": "python3",
      "display_name": "Python 3"
    },
    "language_info": {
      "name": "python"
    }
  },
  "cells": [
    {
      "cell_type": "code",
      "execution_count": null,
      "metadata": {
        "colab": {
          "base_uri": "https://localhost:8080/"
        },
        "id": "kG7GjqQ6_Sip",
        "outputId": "023ea469-8bd8-4c66-dcfb-2ca29906f51f"
      },
      "outputs": [
        {
          "output_type": "stream",
          "name": "stdout",
          "text": [
            "Collecting streamlit\n",
            "  Downloading streamlit-1.50.0-py3-none-any.whl.metadata (9.5 kB)\n",
            "Requirement already satisfied: shap in /usr/local/lib/python3.12/dist-packages (0.49.1)\n",
            "Requirement already satisfied: plotly in /usr/local/lib/python3.12/dist-packages (5.24.1)\n",
            "Requirement already satisfied: fastapi in /usr/local/lib/python3.12/dist-packages (0.120.0)\n",
            "Requirement already satisfied: uvicorn in /usr/local/lib/python3.12/dist-packages (0.38.0)\n",
            "Collecting pyngrok\n",
            "  Downloading pyngrok-7.4.1-py3-none-any.whl.metadata (8.1 kB)\n",
            "Requirement already satisfied: pandas in /usr/local/lib/python3.12/dist-packages (2.2.2)\n",
            "Requirement already satisfied: scikit-learn in /usr/local/lib/python3.12/dist-packages (1.6.1)\n",
            "Requirement already satisfied: altair!=5.4.0,!=5.4.1,<6,>=4.0 in /usr/local/lib/python3.12/dist-packages (from streamlit) (5.5.0)\n",
            "Requirement already satisfied: blinker<2,>=1.5.0 in /usr/local/lib/python3.12/dist-packages (from streamlit) (1.9.0)\n",
            "Requirement already satisfied: cachetools<7,>=4.0 in /usr/local/lib/python3.12/dist-packages (from streamlit) (5.5.2)\n",
            "Requirement already satisfied: click<9,>=7.0 in /usr/local/lib/python3.12/dist-packages (from streamlit) (8.3.0)\n",
            "Requirement already satisfied: numpy<3,>=1.23 in /usr/local/lib/python3.12/dist-packages (from streamlit) (2.0.2)\n",
            "Requirement already satisfied: packaging<26,>=20 in /usr/local/lib/python3.12/dist-packages (from streamlit) (25.0)\n",
            "Requirement already satisfied: pillow<12,>=7.1.0 in /usr/local/lib/python3.12/dist-packages (from streamlit) (11.3.0)\n",
            "Requirement already satisfied: protobuf<7,>=3.20 in /usr/local/lib/python3.12/dist-packages (from streamlit) (5.29.5)\n",
            "Requirement already satisfied: pyarrow>=7.0 in /usr/local/lib/python3.12/dist-packages (from streamlit) (18.1.0)\n",
            "Requirement already satisfied: requests<3,>=2.27 in /usr/local/lib/python3.12/dist-packages (from streamlit) (2.32.4)\n",
            "Requirement already satisfied: tenacity<10,>=8.1.0 in /usr/local/lib/python3.12/dist-packages (from streamlit) (8.5.0)\n",
            "Requirement already satisfied: toml<2,>=0.10.1 in /usr/local/lib/python3.12/dist-packages (from streamlit) (0.10.2)\n",
            "Requirement already satisfied: typing-extensions<5,>=4.4.0 in /usr/local/lib/python3.12/dist-packages (from streamlit) (4.15.0)\n",
            "Requirement already satisfied: watchdog<7,>=2.1.5 in /usr/local/lib/python3.12/dist-packages (from streamlit) (6.0.0)\n",
            "Requirement already satisfied: gitpython!=3.1.19,<4,>=3.0.7 in /usr/local/lib/python3.12/dist-packages (from streamlit) (3.1.45)\n",
            "Collecting pydeck<1,>=0.8.0b4 (from streamlit)\n",
            "  Downloading pydeck-0.9.1-py2.py3-none-any.whl.metadata (4.1 kB)\n",
            "Requirement already satisfied: tornado!=6.5.0,<7,>=6.0.3 in /usr/local/lib/python3.12/dist-packages (from streamlit) (6.5.1)\n",
            "Requirement already satisfied: scipy in /usr/local/lib/python3.12/dist-packages (from shap) (1.16.2)\n",
            "Requirement already satisfied: tqdm>=4.27.0 in /usr/local/lib/python3.12/dist-packages (from shap) (4.67.1)\n",
            "Requirement already satisfied: slicer==0.0.8 in /usr/local/lib/python3.12/dist-packages (from shap) (0.0.8)\n",
            "Requirement already satisfied: numba>=0.54 in /usr/local/lib/python3.12/dist-packages (from shap) (0.60.0)\n",
            "Requirement already satisfied: cloudpickle in /usr/local/lib/python3.12/dist-packages (from shap) (3.1.1)\n",
            "Requirement already satisfied: starlette<0.49.0,>=0.40.0 in /usr/local/lib/python3.12/dist-packages (from fastapi) (0.48.0)\n",
            "Requirement already satisfied: pydantic!=1.8,!=1.8.1,!=2.0.0,!=2.0.1,!=2.1.0,<3.0.0,>=1.7.4 in /usr/local/lib/python3.12/dist-packages (from fastapi) (2.11.10)\n",
            "Requirement already satisfied: annotated-doc>=0.0.2 in /usr/local/lib/python3.12/dist-packages (from fastapi) (0.0.3)\n",
            "Requirement already satisfied: h11>=0.8 in /usr/local/lib/python3.12/dist-packages (from uvicorn) (0.16.0)\n",
            "Requirement already satisfied: PyYAML>=5.1 in /usr/local/lib/python3.12/dist-packages (from pyngrok) (6.0.3)\n",
            "Requirement already satisfied: python-dateutil>=2.8.2 in /usr/local/lib/python3.12/dist-packages (from pandas) (2.9.0.post0)\n",
            "Requirement already satisfied: pytz>=2020.1 in /usr/local/lib/python3.12/dist-packages (from pandas) (2025.2)\n",
            "Requirement already satisfied: tzdata>=2022.7 in /usr/local/lib/python3.12/dist-packages (from pandas) (2025.2)\n",
            "Requirement already satisfied: joblib>=1.2.0 in /usr/local/lib/python3.12/dist-packages (from scikit-learn) (1.5.2)\n",
            "Requirement already satisfied: threadpoolctl>=3.1.0 in /usr/local/lib/python3.12/dist-packages (from scikit-learn) (3.6.0)\n",
            "Requirement already satisfied: jinja2 in /usr/local/lib/python3.12/dist-packages (from altair!=5.4.0,!=5.4.1,<6,>=4.0->streamlit) (3.1.6)\n",
            "Requirement already satisfied: jsonschema>=3.0 in /usr/local/lib/python3.12/dist-packages (from altair!=5.4.0,!=5.4.1,<6,>=4.0->streamlit) (4.25.1)\n",
            "Requirement already satisfied: narwhals>=1.14.2 in /usr/local/lib/python3.12/dist-packages (from altair!=5.4.0,!=5.4.1,<6,>=4.0->streamlit) (2.9.0)\n",
            "Requirement already satisfied: gitdb<5,>=4.0.1 in /usr/local/lib/python3.12/dist-packages (from gitpython!=3.1.19,<4,>=3.0.7->streamlit) (4.0.12)\n",
            "Requirement already satisfied: llvmlite<0.44,>=0.43.0dev0 in /usr/local/lib/python3.12/dist-packages (from numba>=0.54->shap) (0.43.0)\n",
            "Requirement already satisfied: annotated-types>=0.6.0 in /usr/local/lib/python3.12/dist-packages (from pydantic!=1.8,!=1.8.1,!=2.0.0,!=2.0.1,!=2.1.0,<3.0.0,>=1.7.4->fastapi) (0.7.0)\n",
            "Requirement already satisfied: pydantic-core==2.33.2 in /usr/local/lib/python3.12/dist-packages (from pydantic!=1.8,!=1.8.1,!=2.0.0,!=2.0.1,!=2.1.0,<3.0.0,>=1.7.4->fastapi) (2.33.2)\n",
            "Requirement already satisfied: typing-inspection>=0.4.0 in /usr/local/lib/python3.12/dist-packages (from pydantic!=1.8,!=1.8.1,!=2.0.0,!=2.0.1,!=2.1.0,<3.0.0,>=1.7.4->fastapi) (0.4.2)\n",
            "Requirement already satisfied: six>=1.5 in /usr/local/lib/python3.12/dist-packages (from python-dateutil>=2.8.2->pandas) (1.17.0)\n",
            "Requirement already satisfied: charset_normalizer<4,>=2 in /usr/local/lib/python3.12/dist-packages (from requests<3,>=2.27->streamlit) (3.4.4)\n",
            "Requirement already satisfied: idna<4,>=2.5 in /usr/local/lib/python3.12/dist-packages (from requests<3,>=2.27->streamlit) (3.11)\n",
            "Requirement already satisfied: urllib3<3,>=1.21.1 in /usr/local/lib/python3.12/dist-packages (from requests<3,>=2.27->streamlit) (2.5.0)\n",
            "Requirement already satisfied: certifi>=2017.4.17 in /usr/local/lib/python3.12/dist-packages (from requests<3,>=2.27->streamlit) (2025.10.5)\n",
            "Requirement already satisfied: anyio<5,>=3.6.2 in /usr/local/lib/python3.12/dist-packages (from starlette<0.49.0,>=0.40.0->fastapi) (4.11.0)\n",
            "Requirement already satisfied: sniffio>=1.1 in /usr/local/lib/python3.12/dist-packages (from anyio<5,>=3.6.2->starlette<0.49.0,>=0.40.0->fastapi) (1.3.1)\n",
            "Requirement already satisfied: smmap<6,>=3.0.1 in /usr/local/lib/python3.12/dist-packages (from gitdb<5,>=4.0.1->gitpython!=3.1.19,<4,>=3.0.7->streamlit) (5.0.2)\n",
            "Requirement already satisfied: MarkupSafe>=2.0 in /usr/local/lib/python3.12/dist-packages (from jinja2->altair!=5.4.0,!=5.4.1,<6,>=4.0->streamlit) (3.0.3)\n",
            "Requirement already satisfied: attrs>=22.2.0 in /usr/local/lib/python3.12/dist-packages (from jsonschema>=3.0->altair!=5.4.0,!=5.4.1,<6,>=4.0->streamlit) (25.4.0)\n",
            "Requirement already satisfied: jsonschema-specifications>=2023.03.6 in /usr/local/lib/python3.12/dist-packages (from jsonschema>=3.0->altair!=5.4.0,!=5.4.1,<6,>=4.0->streamlit) (2025.9.1)\n",
            "Requirement already satisfied: referencing>=0.28.4 in /usr/local/lib/python3.12/dist-packages (from jsonschema>=3.0->altair!=5.4.0,!=5.4.1,<6,>=4.0->streamlit) (0.37.0)\n",
            "Requirement already satisfied: rpds-py>=0.7.1 in /usr/local/lib/python3.12/dist-packages (from jsonschema>=3.0->altair!=5.4.0,!=5.4.1,<6,>=4.0->streamlit) (0.28.0)\n",
            "Downloading streamlit-1.50.0-py3-none-any.whl (10.1 MB)\n",
            "\u001b[2K   \u001b[90m━━━━━━━━━━━━━━━━━━━━━━━━━━━━━━━━━━━━━━━━\u001b[0m \u001b[32m10.1/10.1 MB\u001b[0m \u001b[31m50.4 MB/s\u001b[0m eta \u001b[36m0:00:00\u001b[0m\n",
            "\u001b[?25hDownloading pyngrok-7.4.1-py3-none-any.whl (25 kB)\n",
            "Downloading pydeck-0.9.1-py2.py3-none-any.whl (6.9 MB)\n",
            "\u001b[2K   \u001b[90m━━━━━━━━━━━━━━━━━━━━━━━━━━━━━━━━━━━━━━━━\u001b[0m \u001b[32m6.9/6.9 MB\u001b[0m \u001b[31m42.1 MB/s\u001b[0m eta \u001b[36m0:00:00\u001b[0m\n",
            "\u001b[?25hInstalling collected packages: pyngrok, pydeck, streamlit\n",
            "Successfully installed pydeck-0.9.1 pyngrok-7.4.1 streamlit-1.50.0\n"
          ]
        }
      ],
      "source": [
        "!pip install streamlit shap plotly fastapi uvicorn pyngrok pandas scikit-learn"
      ]
    },
    {
      "cell_type": "code",
      "source": [
        "!pip install lime shap\n"
      ],
      "metadata": {
        "colab": {
          "base_uri": "https://localhost:8080/"
        },
        "id": "A3zQ6rMLGYrI",
        "outputId": "82c0e7c1-79d4-4838-f658-e9b21ec9919b"
      },
      "execution_count": null,
      "outputs": [
        {
          "output_type": "stream",
          "name": "stdout",
          "text": [
            "Collecting lime\n",
            "  Downloading lime-0.2.0.1.tar.gz (275 kB)\n",
            "\u001b[?25l     \u001b[90m━━━━━━━━━━━━━━━━━━━━━━━━━━━━━━━━━━━━━━━━\u001b[0m \u001b[32m0.0/275.7 kB\u001b[0m \u001b[31m?\u001b[0m eta \u001b[36m-:--:--\u001b[0m\r\u001b[2K     \u001b[90m━━━━━━━━━━━━━━━━━━━━━━━━━━━━━━━━━━━━━━\u001b[0m \u001b[32m275.7/275.7 kB\u001b[0m \u001b[31m14.6 MB/s\u001b[0m eta \u001b[36m0:00:00\u001b[0m\n",
            "\u001b[?25h  Preparing metadata (setup.py) ... \u001b[?25l\u001b[?25hdone\n",
            "Requirement already satisfied: shap in /usr/local/lib/python3.12/dist-packages (0.49.1)\n",
            "Requirement already satisfied: matplotlib in /usr/local/lib/python3.12/dist-packages (from lime) (3.10.0)\n",
            "Requirement already satisfied: numpy in /usr/local/lib/python3.12/dist-packages (from lime) (2.0.2)\n",
            "Requirement already satisfied: scipy in /usr/local/lib/python3.12/dist-packages (from lime) (1.16.2)\n",
            "Requirement already satisfied: tqdm in /usr/local/lib/python3.12/dist-packages (from lime) (4.67.1)\n",
            "Requirement already satisfied: scikit-learn>=0.18 in /usr/local/lib/python3.12/dist-packages (from lime) (1.6.1)\n",
            "Requirement already satisfied: scikit-image>=0.12 in /usr/local/lib/python3.12/dist-packages (from lime) (0.25.2)\n",
            "Requirement already satisfied: pandas in /usr/local/lib/python3.12/dist-packages (from shap) (2.2.2)\n",
            "Requirement already satisfied: packaging>20.9 in /usr/local/lib/python3.12/dist-packages (from shap) (25.0)\n",
            "Requirement already satisfied: slicer==0.0.8 in /usr/local/lib/python3.12/dist-packages (from shap) (0.0.8)\n",
            "Requirement already satisfied: numba>=0.54 in /usr/local/lib/python3.12/dist-packages (from shap) (0.60.0)\n",
            "Requirement already satisfied: cloudpickle in /usr/local/lib/python3.12/dist-packages (from shap) (3.1.1)\n",
            "Requirement already satisfied: typing-extensions in /usr/local/lib/python3.12/dist-packages (from shap) (4.15.0)\n",
            "Requirement already satisfied: llvmlite<0.44,>=0.43.0dev0 in /usr/local/lib/python3.12/dist-packages (from numba>=0.54->shap) (0.43.0)\n",
            "Requirement already satisfied: networkx>=3.0 in /usr/local/lib/python3.12/dist-packages (from scikit-image>=0.12->lime) (3.5)\n",
            "Requirement already satisfied: pillow>=10.1 in /usr/local/lib/python3.12/dist-packages (from scikit-image>=0.12->lime) (11.3.0)\n",
            "Requirement already satisfied: imageio!=2.35.0,>=2.33 in /usr/local/lib/python3.12/dist-packages (from scikit-image>=0.12->lime) (2.37.0)\n",
            "Requirement already satisfied: tifffile>=2022.8.12 in /usr/local/lib/python3.12/dist-packages (from scikit-image>=0.12->lime) (2025.10.16)\n",
            "Requirement already satisfied: lazy-loader>=0.4 in /usr/local/lib/python3.12/dist-packages (from scikit-image>=0.12->lime) (0.4)\n",
            "Requirement already satisfied: joblib>=1.2.0 in /usr/local/lib/python3.12/dist-packages (from scikit-learn>=0.18->lime) (1.5.2)\n",
            "Requirement already satisfied: threadpoolctl>=3.1.0 in /usr/local/lib/python3.12/dist-packages (from scikit-learn>=0.18->lime) (3.6.0)\n",
            "Requirement already satisfied: contourpy>=1.0.1 in /usr/local/lib/python3.12/dist-packages (from matplotlib->lime) (1.3.3)\n",
            "Requirement already satisfied: cycler>=0.10 in /usr/local/lib/python3.12/dist-packages (from matplotlib->lime) (0.12.1)\n",
            "Requirement already satisfied: fonttools>=4.22.0 in /usr/local/lib/python3.12/dist-packages (from matplotlib->lime) (4.60.1)\n",
            "Requirement already satisfied: kiwisolver>=1.3.1 in /usr/local/lib/python3.12/dist-packages (from matplotlib->lime) (1.4.9)\n",
            "Requirement already satisfied: pyparsing>=2.3.1 in /usr/local/lib/python3.12/dist-packages (from matplotlib->lime) (3.2.5)\n",
            "Requirement already satisfied: python-dateutil>=2.7 in /usr/local/lib/python3.12/dist-packages (from matplotlib->lime) (2.9.0.post0)\n",
            "Requirement already satisfied: pytz>=2020.1 in /usr/local/lib/python3.12/dist-packages (from pandas->shap) (2025.2)\n",
            "Requirement already satisfied: tzdata>=2022.7 in /usr/local/lib/python3.12/dist-packages (from pandas->shap) (2025.2)\n",
            "Requirement already satisfied: six>=1.5 in /usr/local/lib/python3.12/dist-packages (from python-dateutil>=2.7->matplotlib->lime) (1.17.0)\n",
            "Building wheels for collected packages: lime\n",
            "  Building wheel for lime (setup.py) ... \u001b[?25l\u001b[?25hdone\n",
            "  Created wheel for lime: filename=lime-0.2.0.1-py3-none-any.whl size=283834 sha256=264943dcb216cfb1ad9bfb7e8c0b32084a018da57014d8079d6c430cff3d510b\n",
            "  Stored in directory: /root/.cache/pip/wheels/e7/5d/0e/4b4fff9a47468fed5633211fb3b76d1db43fe806a17fb7486a\n",
            "Successfully built lime\n",
            "Installing collected packages: lime\n",
            "Successfully installed lime-0.2.0.1\n"
          ]
        }
      ]
    },
    {
      "cell_type": "code",
      "source": [
        "from pyngrok import ngrok\n",
        "!ngrok authtoken \"34iMBn6qULNlltUgCWvRFLkTK3g_5BQFCDsd7h92NrXJT2PRn\""
      ],
      "metadata": {
        "colab": {
          "base_uri": "https://localhost:8080/"
        },
        "id": "CECHZWzxB_Yz",
        "outputId": "5e9de740-6b7e-4f56-8216-3883500579f0"
      },
      "execution_count": null,
      "outputs": [
        {
          "output_type": "stream",
          "name": "stdout",
          "text": [
            "Authtoken saved to configuration file: /root/.config/ngrok/ngrok.yml\n"
          ]
        }
      ]
    },
    {
      "cell_type": "code",
      "source": [
        "from pyngrok import ngrok\n",
        "ngrok.kill()"
      ],
      "metadata": {
        "id": "TN-iRPSBF8h9"
      },
      "execution_count": null,
      "outputs": []
    },
    {
      "cell_type": "code",
      "source": [
        "%%writefile app.py\n",
        "from fastapi import FastAPI, UploadFile\n",
        "import pandas as pd\n",
        "from io import StringIO\n",
        "\n",
        "app = FastAPI()\n",
        "data = None\n",
        "\n",
        "@app.post(\"/upload\")\n",
        "async def upload_csv(file: UploadFile):\n",
        "    global data\n",
        "    content = await file.read()\n",
        "    data = pd.read_csv(StringIO(content.decode(\"utf-8\")))\n",
        "    return {\"columns\": list(data.columns), \"rows\": len(data)}\n",
        "\n",
        "@app.get(\"/sample\")\n",
        "async def sample():\n",
        "    global data\n",
        "    if data is None:\n",
        "        return {\"error\": \"No data loaded\"}\n",
        "    return data.head(50).to_dict(orient=\"records\")"
      ],
      "metadata": {
        "id": "dDQEkGju_ZG2",
        "colab": {
          "base_uri": "https://localhost:8080/"
        },
        "outputId": "c825013d-dc5b-40c5-f864-836880922c31"
      },
      "execution_count": null,
      "outputs": [
        {
          "output_type": "stream",
          "name": "stdout",
          "text": [
            "Writing app.py\n"
          ]
        }
      ]
    },
    {
      "cell_type": "code",
      "source": [
        "from pyngrok import ngrok\n",
        "import threading, os\n",
        "\n",
        "port = 8501\n",
        "public_url = ngrok.connect(port).public_url\n",
        "print(\"🌐 Streamlit App URL:\", public_url)\n",
        "\n",
        "def run_streamlit():\n",
        "    os.system(f\"streamlit run dashboard.py --server.port {port}\")\n",
        "\n",
        "threading.Thread(target=run_streamlit).start()\n"
      ],
      "metadata": {
        "colab": {
          "base_uri": "https://localhost:8080/"
        },
        "id": "XAp1XvBOH1P_",
        "outputId": "c05c6adc-c1ee-4805-f267-420006e7c4aa"
      },
      "execution_count": null,
      "outputs": [
        {
          "output_type": "stream",
          "name": "stdout",
          "text": [
            "🌐 Streamlit App URL: https://seema-ecclesiastical-dendritically.ngrok-free.dev\n"
          ]
        }
      ]
    },
    {
      "cell_type": "code",
      "source": [
        "from pathlib import Path\n",
        "bg_path = Path(\"matrix_ai.jpg\")\n",
        "bg_url = bg_path.as_posix()"
      ],
      "metadata": {
        "id": "I2PnJWMQjMmp"
      },
      "execution_count": null,
      "outputs": []
    },
    {
      "cell_type": "code",
      "source": [
        "with open(\"dashboard.py\",\"w\") as f:\n",
        "    f.write(\"\"\"\n",
        "import streamlit as st\n",
        "import numpy as np\n",
        "import pandas as pd\n",
        "import joblib\n",
        "\n",
        "st.set_page_config(page_title=\"CFRP Fatigue Failure Analysis\", layout=\"wide\")\n",
        "\n",
        "# ======== CSS STYLING ========\n",
        "st.markdown('''\n",
        "<style>\n",
        "\n",
        "/* ===== Animated MATRIX green-black background ===== */\n",
        "@keyframes drift {\n",
        "  0%   {background-position: 0 0, 0 0, 0 0;}\n",
        "  50%  {background-position: 100px 200px, -200px 100px, 300px 400px;}\n",
        "  100% {background-position: 0 0, 0 0, 0 0;}\n",
        "}\n",
        "\n",
        "[data-testid=\"stAppViewContainer\"] {\n",
        "  background-color: #000 !important;\n",
        "  background-image:\n",
        "     radial-gradient(circle at 20% 30%, rgba(0,255,0,0.05) 0%, transparent 70%),\n",
        "     radial-gradient(circle at 80% 70%, rgba(0,255,0,0.08) 0%, transparent 70%),\n",
        "     repeating-linear-gradient(180deg, rgba(0,255,0,0.05) 0, rgba(0,255,0,0.05) 2px, transparent 3px, transparent 6px);\n",
        "  background-size: 400px 400px, 600px 600px, 8px 12px;\n",
        "  animation: drift 40s linear infinite;\n",
        "  font-family: \"Consolas\", monospace;\n",
        "  color: #00FF00;\n",
        "}\n",
        "\n",
        "/* ===== Floating glow layer ===== */\n",
        "[data-testid=\"stAppViewContainer\"]::before {\n",
        "  content: \"\";\n",
        "  position: fixed;\n",
        "  top: 0; left: 0; width: 100%; height: 100%;\n",
        "  background: radial-gradient(circle at 50% 50%, rgba(0,255,0,0.1) 0%, rgba(0,0,0,0.9) 80%);\n",
        "  pointer-events: none;\n",
        "  animation: pulse 8s ease-in-out infinite alternate;\n",
        "  z-index: -1;\n",
        "}\n",
        "@keyframes pulse {\n",
        "  from {opacity: 0.3;}\n",
        "  to   {opacity: 0.6;}\n",
        "}\n",
        "\n",
        "/* ===== Control bar ===== */\n",
        ".matrix-bar {\n",
        "  background: rgba(0,0,0,0.9);\n",
        "  border: 1px solid #00FF00;\n",
        "  box-shadow: 0 0 20px #00FF00;\n",
        "  border-radius: 10px;\n",
        "  padding: 12px 18px;\n",
        "  display: flex;\n",
        "  justify-content: space-evenly;\n",
        "  align-items: center;\n",
        "  flex-wrap: wrap;\n",
        "  position: fixed;\n",
        "  top: 4%;\n",
        "  left: 50%;\n",
        "  transform: translateX(-50%);\n",
        "  width: 94%;\n",
        "  z-index: 10;\n",
        "}\n",
        "\n",
        "/* Input fields */\n",
        "input {\n",
        "  background-color: black !important;\n",
        "  color: #00FF00 !important;\n",
        "  border: 1px solid #00FF00 !important;\n",
        "  border-radius: 5px;\n",
        "  text-align: center;\n",
        "}\n",
        "\n",
        "/* Labels */\n",
        "label {\n",
        "  color: #00FF00 !important;\n",
        "  font-size: 13px !important;\n",
        "}\n",
        "\n",
        "/* Predict button */\n",
        ".stButton>button {\n",
        "  background-color: #00FF00 !important;\n",
        "  color: black !important;\n",
        "  font-weight: bold;\n",
        "  border-radius: 6px;\n",
        "  box-shadow: 0 0 18px #00FF00;\n",
        "  transition: all 0.3s;\n",
        "}\n",
        ".stButton>button:hover {\n",
        "  background-color: black !important;\n",
        "  color: #00FF00 !important;\n",
        "  box-shadow: 0 0 35px #00FF00;\n",
        "}\n",
        "\n",
        "/* Title + Result box */\n",
        "h1 {\n",
        "  color: #00FF00 !important;\n",
        "  text-align: center;\n",
        "  letter-spacing: 1px;\n",
        "  text-shadow: 0 0 15px #00FF00;\n",
        "  margin-top: 160px;\n",
        "}\n",
        ".result-box {\n",
        "  text-align: center;\n",
        "  color: #00FF00;\n",
        "  font-weight: bold;\n",
        "  margin-top: 30px;\n",
        "  font-size: 20px;\n",
        "  text-shadow: 0 0 10px #00FF00;\n",
        "}\n",
        "\n",
        "</style>\n",
        "''', unsafe_allow_html=True)\n",
        "\n",
        "# ======== MODEL LOADING ========\n",
        "MODEL_PATH = \"L1_RUL_RF_pipeline.pkl\"\n",
        "try:\n",
        "    pipeline = joblib.load(MODEL_PATH)\n",
        "except:\n",
        "    pipeline = None\n",
        "    st.warning(\"⚠️ Model file 'L1_RUL_RF_pipeline.pkl' not found. Please upload it to the same folder.\")\n",
        "\n",
        "# ======== CONTROL BAR ========\n",
        "st.markdown('<div class=\"matrix-bar\">', unsafe_allow_html=True)\n",
        "col1,col2,col3,col4,col5,col6,col7 = st.columns([1,1,1,1,1,1,1.3])\n",
        "with col1: strain_mean = st.number_input(\"Strain Mean of Means (–)\", value=0.01, format=\"%.6f\")\n",
        "with col2: median_strain = st.number_input(\"Median Strain (–)\", value=0.0, format=\"%.6f\")\n",
        "with col3: pzt_amp_std = st.number_input(\"PZT Amplitude Std (V)\", value=0.01, format=\"%.6f\")\n",
        "with col4: D_smooth = st.number_input(\"D_smooth (–)\", value=0.0, format=\"%.6f\")\n",
        "with col5: strain_std_mean = st.number_input(\"Strain Std of Means (–)\", value=0.0, format=\"%.6f\")\n",
        "with col6: load = st.number_input(\"Load (N)\", value=0.01, format=\"%.6f\")\n",
        "with col7: coupon_id = st.text_input(\"Coupon ID\", value=\"L1_S11\")\n",
        "st.markdown('</div>', unsafe_allow_html=True)\n",
        "\n",
        "# ======== TITLE ========\n",
        "st.markdown(\"<h1>CFRP FATIGUE FAILURE ANALYSIS</h1>\", unsafe_allow_html=True)\n",
        "st.caption(\"Neural Diagnostic Engine — Monochrome AI | True Matrix Mode\")\n",
        "\n",
        "# ======== PREDICTION ========\n",
        "predict_btn = st.button(\"Predict RUL\")\n",
        "if predict_btn:\n",
        "    if pipeline:\n",
        "        input_data = pd.DataFrame([{\n",
        "            'strain_mean_of_means': strain_mean,\n",
        "            'median_strain': median_strain,\n",
        "            'pzt_amplitude_std': pzt_amp_std,\n",
        "            'D_smooth': D_smooth,\n",
        "            'strain_std_of_means': strain_std_mean,\n",
        "            'load': load\n",
        "        }])\n",
        "        predicted_rul = pipeline.predict(input_data)[0]\n",
        "        st.markdown(f\"<div class='result-box'>Predicted Remaining Useful Life (RUL): <span style='background:#00FF00;color:black;padding:4px 10px;border-radius:5px;'>{predicted_rul:.2f}</span></div>\", unsafe_allow_html=True)\n",
        "    else:\n",
        "        st.markdown(\"<div class='result-box'>Model not found — unable to predict.</div>\", unsafe_allow_html=True)\n",
        "\"\"\")\n"
      ],
      "metadata": {
        "id": "IOc_ryBfilo5"
      },
      "execution_count": null,
      "outputs": []
    }
  ]
}